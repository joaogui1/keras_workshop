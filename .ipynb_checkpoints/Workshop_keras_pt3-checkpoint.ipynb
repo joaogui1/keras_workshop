{
 "cells": [
  {
   "cell_type": "code",
   "execution_count": null,
   "metadata": {
    "colab": {},
    "colab_type": "code",
    "id": "gcx4zoHHCG5Q"
   },
   "outputs": [],
   "source": [
    "!pip install -U tensorflow-gpu\n",
    "!pip install -U slackclient"
   ]
  },
  {
   "cell_type": "code",
   "execution_count": null,
   "metadata": {
    "colab": {},
    "colab_type": "code",
    "id": "4NpZ8Hi7CU3c"
   },
   "outputs": [],
   "source": [
    "import slack\n",
    "import datetime\n",
    "import tensorflow as tf"
   ]
  },
  {
   "cell_type": "code",
   "execution_count": null,
   "metadata": {
    "colab": {},
    "colab_type": "code",
    "id": "aaDsI2tQCVZb"
   },
   "outputs": [],
   "source": [
    "def get_model():\n",
    "  model = tf.keras.Sequential()\n",
    "  model.add(tf.keras.layers.Dense(256, activation = 'relu', input_dim = 784))\n",
    "  model.add(tf.keras.layers.Dense(10, activation = 'softmax'))\n",
    "  model.compile(optimizer=\"nadam\", loss='categorical_crossentropy', metrics=['acc'])\n",
    "  return model"
   ]
  },
  {
   "cell_type": "code",
   "execution_count": null,
   "metadata": {
    "colab": {},
    "colab_type": "code",
    "id": "h7wujGJNC1W4"
   },
   "outputs": [],
   "source": [
    "(x_train, y_train), (x_test, y_test) = tf.keras.datasets.mnist.load_data()\n",
    "x_train = x_train.reshape(60000, 784).astype('float32') / 255\n",
    "x_test = x_test.reshape(10000, 784).astype('float32') / 255\n",
    "y_test, y_train = tf.keras.utils.to_categorical(y_test), tf.keras.utils.to_categorical(y_train)"
   ]
  },
  {
   "cell_type": "code",
   "execution_count": null,
   "metadata": {
    "colab": {},
    "colab_type": "code",
    "id": "EiFZ8R4PEHMa"
   },
   "outputs": [],
   "source": [
    "slack_token = os.environ[\"SLACK_API_TOKEN\"]\n",
    "client = slack.WebClient(token=slack_token)"
   ]
  },
  {
   "cell_type": "code",
   "execution_count": null,
   "metadata": {
    "colab": {},
    "colab_type": "code",
    "id": "iFlF5E6IC8HI"
   },
   "outputs": [],
   "source": [
    "class MyCustomCallback(tf.keras.callbacks.Callback):\n",
    "\n",
    "  def on_epoch_begin(self, epoch, logs=None):\n",
    "    print('Training: epoch {} begins at {}'.format(epoch, datetime.datetime.now().time()))\n",
    "\n",
    "  def on_epoch_end(self, epoch, logs=None):\n",
    "    print('Training: epoch {} ends at {}'.format(epoch, datetime.datetime.now().time()))\n",
    "    self.acc = logs['acc']\n",
    "\n",
    "  def on_train_begin(self, batch, logs=None):\n",
    "    client.chat_postMessage(channel=\"CE1TKH257\",\n",
    "                              text=\"Beggining traininig...\"\n",
    "                              )\n",
    "\n",
    "  def on_train_end(self, batch, logs=None):\n",
    "    client.chat_postMessage(channel=\"CE1TKH257\",\n",
    "                              text=f\"Final accuracy: {self.acc}\"\n",
    "                              )"
   ]
  },
  {
   "cell_type": "code",
   "execution_count": null,
   "metadata": {
    "colab": {},
    "colab_type": "code",
    "id": "YQd9gD88DGmZ"
   },
   "outputs": [],
   "source": [
    "model = get_model()\n",
    "model.fit(x_train, y_train,\n",
    "          batch_size=64,\n",
    "          epochs=5,\n",
    "          verbose=1,\n",
    "          callbacks=[MyCustomCallback()])"
   ]
  },
  {
   "cell_type": "code",
   "execution_count": null,
   "metadata": {
    "colab": {},
    "colab_type": "code",
    "id": "9p1DZZelN1GS"
   },
   "outputs": [],
   "source": []
  }
 ],
 "metadata": {
  "accelerator": "GPU",
  "colab": {
   "collapsed_sections": [],
   "name": "Workshop_keras_pt3.ipynb",
   "provenance": []
  },
  "kernelspec": {
   "display_name": "Python 3",
   "language": "python",
   "name": "python3"
  },
  "language_info": {
   "codemirror_mode": {
    "name": "ipython",
    "version": 3
   },
   "file_extension": ".py",
   "mimetype": "text/x-python",
   "name": "python",
   "nbconvert_exporter": "python",
   "pygments_lexer": "ipython3",
   "version": "3.7.3"
  }
 },
 "nbformat": 4,
 "nbformat_minor": 4
}
