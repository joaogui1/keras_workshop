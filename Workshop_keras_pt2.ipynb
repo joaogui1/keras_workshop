{
  "nbformat": 4,
  "nbformat_minor": 0,
  "metadata": {
    "colab": {
      "name": "Workshop_keras_pt2.ipynb",
      "provenance": [],
      "collapsed_sections": []
    },
    "kernelspec": {
      "name": "python3",
      "display_name": "Python 3"
    },
    "accelerator": "GPU"
  },
  "cells": [
    {
      "cell_type": "code",
      "metadata": {
        "id": "lxirqdnBoERM",
        "colab_type": "code",
        "colab": {}
      },
      "source": [
        "!pip install kaggle\n",
        "!pip install -U tensorflow-gpu\n",
        "import os\n",
        "import numpy as np\n",
        "from google.colab import files\n",
        "from keras.optimizers import Nadam\n",
        "%load_ext tensorboard"
      ],
      "execution_count": 0,
      "outputs": []
    },
    {
      "cell_type": "code",
      "metadata": {
        "id": "zkvWhusa7O3m",
        "colab_type": "code",
        "colab": {}
      },
      "source": [
        "files.upload()"
      ],
      "execution_count": 0,
      "outputs": []
    },
    {
      "cell_type": "code",
      "metadata": {
        "id": "wHvT5AwN6oz_",
        "colab_type": "code",
        "colab": {}
      },
      "source": [
        "import tensorflow as tf\n",
        "tf.test.is_gpu_available()"
      ],
      "execution_count": 0,
      "outputs": []
    },
    {
      "cell_type": "code",
      "metadata": {
        "id": "juZneRxxuJyt",
        "colab_type": "code",
        "colab": {}
      },
      "source": [
        "!ls"
      ],
      "execution_count": 0,
      "outputs": []
    },
    {
      "cell_type": "code",
      "metadata": {
        "colab_type": "code",
        "id": "-l-PVq-7_j1I",
        "colab": {}
      },
      "source": [
        "!mkdir /root/.kaggle \n",
        "!mv kaggle.json /root/.kaggle\n",
        "!kaggle competitions download -c dogs-vs-cats\n"
      ],
      "execution_count": 0,
      "outputs": []
    },
    {
      "cell_type": "code",
      "metadata": {
        "id": "x2TXLb6oogGZ",
        "colab_type": "code",
        "colab": {}
      },
      "source": [
        "!unzip train.zip\n",
        "!mkdir -p data/train/cats\n",
        "!mkdir    data/train/dogs\n",
        "!mkdir -p data/validation/cats\n",
        "!mkdir    data/validation/dogs"
      ],
      "execution_count": 0,
      "outputs": []
    },
    {
      "cell_type": "code",
      "metadata": {
        "id": "1EtnBwHopEs9",
        "colab_type": "code",
        "colab": {}
      },
      "source": [
        "for i in range(1000):\n",
        "  os.rename(f\"train/cat.{i}.jpg\", f\"data/train/cats/cat.{i + 1}.jpg\")\n",
        "\n",
        "for i in range(1000, 1400):\n",
        "  os.rename(f\"train/cat.{i}.jpg\", f\"data/validation/cats/cat.{i + 1 - 1000}.jpg\")"
      ],
      "execution_count": 0,
      "outputs": []
    },
    {
      "cell_type": "code",
      "metadata": {
        "id": "mfajaNNgpFLe",
        "colab_type": "code",
        "colab": {}
      },
      "source": [
        "for i in range(11100, 12100):\n",
        "  os.rename(f\"train/dog.{i}.jpg\", f\"data/train/dogs/dog.{i + 1 - 12500}.jpg\")\n",
        "  \n",
        "for i in range(12100, 12500):\n",
        "  os.rename(f\"train/dog.{i}.jpg\", f\"data/validation/dogs/dog.{i + 1 - 12100}.jpg\")"
      ],
      "execution_count": 0,
      "outputs": []
    },
    {
      "cell_type": "code",
      "metadata": {
        "id": "8KqoMZdYqUOj",
        "colab_type": "code",
        "colab": {}
      },
      "source": [
        "from tensorflow.keras import Model\n",
        "from tensorflow.keras.models import Sequential\n",
        "from tensorflow.keras.callbacks import TensorBoard\n",
        "from tensorflow.keras.preprocessing.image import ImageDataGenerator\n",
        "from tensorflow.keras.layers import Conv2D, MaxPooling2D\n",
        "from tensorflow.keras.layers import Activation, Dropout, Flatten, Dense, Input"
      ],
      "execution_count": 0,
      "outputs": []
    },
    {
      "cell_type": "code",
      "metadata": {
        "id": "HX5gXh3Gqp35",
        "colab_type": "code",
        "colab": {}
      },
      "source": [
        "img_width, img_height = 150, 150\n",
        "\n",
        "train_data_dir = 'data/train'\n",
        "test_data_dir = 'data/validation'\n",
        "\n",
        "epochs = 50\n",
        "batch_size = 16\n",
        "logdir = os.path.join(\"logs\")\n",
        "tensorboard_callback = tf.keras.callbacks.TensorBoard(logdir, histogram_freq=1)"
      ],
      "execution_count": 0,
      "outputs": []
    },
    {
      "cell_type": "code",
      "metadata": {
        "id": "natqZ0I1qsds",
        "colab_type": "code",
        "colab": {}
      },
      "source": [
        "inputs = Input(shape=(img_height, img_width, 3))\n",
        "\n",
        "x = Conv2D(32, (3, 3), activation='relu')(inputs)\n",
        "x = MaxPooling2D((2, 2))(x)\n",
        "\n",
        "x = Conv2D(32, (3, 3), activation='relu')(x)\n",
        "x = MaxPooling2D((2, 2))(x)\n",
        "\n",
        "x = Conv2D(64, (3, 3), activation='relu')(x)\n",
        "x = MaxPooling2D((2, 2))(x)          \n",
        "\n",
        "\n",
        "x = Flatten()(x)\n",
        "latent_vec = Dense(64, activation='relu')(x)\n",
        "latent_vec = Dropout(0.5)(latent_vec)\n",
        "output = Dense(1, activation='sigmoid')(latent_vec)\n",
        "\n",
        "model = Model(inputs, output)\n"
      ],
      "execution_count": 0,
      "outputs": []
    },
    {
      "cell_type": "code",
      "metadata": {
        "id": "9Dxc-N3_OUpH",
        "colab_type": "code",
        "colab": {}
      },
      "source": [
        "model.summary()"
      ],
      "execution_count": 0,
      "outputs": []
    },
    {
      "cell_type": "code",
      "metadata": {
        "id": "4DSr_FrLxBwN",
        "colab_type": "code",
        "colab": {}
      },
      "source": [
        "from tensorflow.keras.utils import plot_model"
      ],
      "execution_count": 0,
      "outputs": []
    },
    {
      "cell_type": "code",
      "metadata": {
        "id": "jGrNYXUmxIMH",
        "colab_type": "code",
        "colab": {}
      },
      "source": [
        "plot_model(model)"
      ],
      "execution_count": 0,
      "outputs": []
    },
    {
      "cell_type": "code",
      "metadata": {
        "id": "v5nZFLV-qvKq",
        "colab_type": "code",
        "colab": {}
      },
      "source": [
        "model.compile(loss='binary_crossentropy', optimizer='nadam', metrics=['accuracy'])"
      ],
      "execution_count": 0,
      "outputs": []
    },
    {
      "cell_type": "code",
      "metadata": {
        "id": "WEyGHdhswXSM",
        "colab_type": "code",
        "colab": {}
      },
      "source": [
        "train_datagen = ImageDataGenerator(rescale = 1/255)\n",
        "test_datagen = ImageDataGenerator(rescale = 1/255)"
      ],
      "execution_count": 0,
      "outputs": []
    },
    {
      "cell_type": "code",
      "metadata": {
        "id": "cPsD-jaJwf7n",
        "colab_type": "code",
        "colab": {}
      },
      "source": [
        "train_generator = train_datagen.flow_from_directory(\n",
        "                  train_data_dir,\n",
        "                  target_size=(img_width, img_height),\n",
        "                  batch_size=batch_size,\n",
        "                  class_mode='binary'\n",
        "                  )\n",
        "\n",
        "test_generator = test_datagen.flow_from_directory(\n",
        "                  test_data_dir,\n",
        "                  target_size=(img_width, img_height),\n",
        "                  batch_size=batch_size,\n",
        "                  class_mode='binary'\n",
        "                  )"
      ],
      "execution_count": 0,
      "outputs": []
    },
    {
      "cell_type": "code",
      "metadata": {
        "id": "2ByhP3PgxWMz",
        "colab_type": "code",
        "colab": {}
      },
      "source": [
        "train_samples = 2000\n",
        "test_samples = 800"
      ],
      "execution_count": 0,
      "outputs": []
    },
    {
      "cell_type": "code",
      "metadata": {
        "id": "23KTQrRMxZD4",
        "colab_type": "code",
        "colab": {}
      },
      "source": [
        "model.fit_generator(train_generator, steps_per_epoch=train_samples//batch_size, \n",
        "                    epochs=epochs,\n",
        "                    callbacks=[tensorboard_callback],\n",
        "                    validation_data=test_generator,\n",
        "                    validation_steps=test_samples//batch_size)"
      ],
      "execution_count": 0,
      "outputs": []
    },
    {
      "cell_type": "code",
      "metadata": {
        "id": "BEk83FVLxeBb",
        "colab_type": "code",
        "colab": {}
      },
      "source": [
        "%tensorboard --logdir logs"
      ],
      "execution_count": 0,
      "outputs": []
    },
    {
      "cell_type": "code",
      "metadata": {
        "id": "d7z4jsml_uIr",
        "colab_type": "code",
        "colab": {}
      },
      "source": [
        "!rm -rf ./logs/ "
      ],
      "execution_count": 0,
      "outputs": []
    },
    {
      "cell_type": "code",
      "metadata": {
        "id": "U-Q6REpYqy7b",
        "colab_type": "code",
        "colab": {}
      },
      "source": [
        "train_datagen = ImageDataGenerator(\n",
        "                rescale = 1/255, \n",
        "                shear_range=0.2,\n",
        "                zoom_range=0.2,\n",
        "                horizontal_flip=True\n",
        "                )"
      ],
      "execution_count": 0,
      "outputs": []
    },
    {
      "cell_type": "code",
      "metadata": {
        "id": "Ze7RUid6q3hG",
        "colab_type": "code",
        "colab": {}
      },
      "source": [
        "train_generator = train_datagen.flow_from_directory(\n",
        "                  train_data_dir,\n",
        "                  target_size=(img_width, img_height),\n",
        "                  batch_size=batch_size,\n",
        "                  class_mode='binary'\n",
        "                  )\n",
        "\n",
        "test_generator = test_datagen.flow_from_directory(\n",
        "                  test_data_dir,\n",
        "                  target_size=(img_width, img_height),\n",
        "                  batch_size=batch_size,\n",
        "                  class_mode='binary'\n",
        "                  )"
      ],
      "execution_count": 0,
      "outputs": []
    },
    {
      "cell_type": "code",
      "metadata": {
        "id": "ZeLfeItaq-Sr",
        "colab_type": "code",
        "colab": {}
      },
      "source": [
        "model.compile(loss='binary_crossentropy', optimizer='nadam', metrics=['accuracy'])"
      ],
      "execution_count": 0,
      "outputs": []
    },
    {
      "cell_type": "code",
      "metadata": {
        "id": "74CMFHOXrCV7",
        "colab_type": "code",
        "colab": {}
      },
      "source": [
        "model.fit_generator(train_generator, steps_per_epoch=train_samples//batch_size, \n",
        "                    epochs=epochs,\n",
        "                    callbacks=[tensorboard_callback],\n",
        "                    validation_data=test_generator,\n",
        "                    validation_steps=test_samples//batch_size)"
      ],
      "execution_count": 0,
      "outputs": []
    },
    {
      "cell_type": "code",
      "metadata": {
        "id": "pA0HJ_hj6etV",
        "colab_type": "code",
        "colab": {}
      },
      "source": [
        "%tensorboard --logdir logs"
      ],
      "execution_count": 0,
      "outputs": []
    },
    {
      "cell_type": "code",
      "metadata": {
        "id": "1BIUDBGWuToc",
        "colab_type": "code",
        "colab": {}
      },
      "source": [
        "import tensorflow as tf\n",
        "from tensorflow.keras import Model\n",
        "from tensorflow.keras.applications import MobileNet\n",
        "from tensorflow.keras.preprocessing import image\n",
        "from tensorflow.keras.applications.mobilenet import preprocess_input"
      ],
      "execution_count": 0,
      "outputs": []
    },
    {
      "cell_type": "code",
      "metadata": {
        "id": "zMrxoNxzvvK6",
        "colab_type": "code",
        "colab": {}
      },
      "source": [
        "base_model = MobileNet(weights='imagenet', include_top=False, pooling='avg') #imports the mobilenet model and discards the last 1000 neuron layer.\n",
        "base_model.trainable = False\n",
        "\n",
        "x = base_model.output\n",
        "preds = tf.keras.layers.Dense(2,activation='softmax')(x) #final layer with softmax activation"
      ],
      "execution_count": 0,
      "outputs": []
    },
    {
      "cell_type": "code",
      "metadata": {
        "id": "baHW69Nkv4y9",
        "colab_type": "code",
        "colab": {}
      },
      "source": [
        "model = Model(inputs=base_model.input,outputs=preds)"
      ],
      "execution_count": 0,
      "outputs": []
    },
    {
      "cell_type": "code",
      "metadata": {
        "id": "E1n07x6Nv6xk",
        "colab_type": "code",
        "colab": {}
      },
      "source": [
        "model.compile(\n",
        "  optimizer='nadam',\n",
        "  loss='sparse_categorical_crossentropy',\n",
        "  metrics=['accuracy'])\n",
        "\n",
        "EPOCHS = 6\n",
        "\n",
        "model.fit_generator(train_generator, steps_per_epoch=train_samples//batch_size, \n",
        "                    epochs=EPOCHS,\n",
        "                    validation_data=test_generator,\n",
        "                    validation_steps=test_samples//batch_size)"
      ],
      "execution_count": 0,
      "outputs": []
    },
    {
      "cell_type": "code",
      "metadata": {
        "id": "lLX2E6ZLvg99",
        "colab_type": "code",
        "colab": {}
      },
      "source": [
        "model.save(\"mobile.h5\")"
      ],
      "execution_count": 0,
      "outputs": []
    },
    {
      "cell_type": "code",
      "metadata": {
        "id": "sQLjRS_8vlMG",
        "colab_type": "code",
        "colab": {}
      },
      "source": [
        "base_model.trainable = True"
      ],
      "execution_count": 0,
      "outputs": []
    },
    {
      "cell_type": "code",
      "metadata": {
        "id": "6VpGlU-xvpIS",
        "colab_type": "code",
        "colab": {}
      },
      "source": [
        "model.compile(\n",
        "  optimizer=Nadam(learning_rate=0.0002),\n",
        "  loss='sparse_categorical_crossentropy',\n",
        "  metrics=['accuracy'])\n",
        "model.fit_generator(train_generator, steps_per_epoch=train_samples//batch_size, \n",
        "                    epochs=EPOCHS/2,\n",
        "                    validation_data=test_generator,\n",
        "                    validation_steps=test_samples//batch_size)"
      ],
      "execution_count": 0,
      "outputs": []
    }
  ]
}