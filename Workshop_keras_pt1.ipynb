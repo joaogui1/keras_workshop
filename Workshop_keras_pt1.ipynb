{
  "nbformat": 4,
  "nbformat_minor": 0,
  "metadata": {
    "colab": {
      "name": "Workshop_keras_pt1.ipynb",
      "provenance": [],
      "collapsed_sections": []
    },
    "kernelspec": {
      "name": "python3",
      "display_name": "Python 3"
    },
    "accelerator": "GPU"
  },
  "cells": [
    {
      "cell_type": "code",
      "metadata": {
        "id": "aRPEWAHLWPmj",
        "colab_type": "code",
        "colab": {}
      },
      "source": [
        "import os\n",
        "import matplotlib.pyplot as plt\n",
        "import numpy as np\n",
        "\n",
        "from tensorflow.keras.utils import to_categorical\n",
        "from tensorflow.keras.models import Sequential\n",
        "from tensorflow.keras.layers import Dense, Flatten\n",
        "from tensorflow.keras.datasets import mnist"
      ],
      "execution_count": 0,
      "outputs": []
    },
    {
      "cell_type": "code",
      "metadata": {
        "id": "BNTFYQXyXbih",
        "colab_type": "code",
        "colab": {}
      },
      "source": [
        "import warnings\n",
        "warnings.filterwarnings('ignore')"
      ],
      "execution_count": 0,
      "outputs": []
    },
    {
      "cell_type": "code",
      "metadata": {
        "id": "_wp5ZruJx8-D",
        "colab_type": "code",
        "colab": {}
      },
      "source": [
        "def plot(hist):\n",
        "  plt.plot(hist.history['acc'])\n",
        "  plt.plot(hist.history['val_acc'])\n",
        "  plt.title('Model accuracy')\n",
        "  plt.ylabel('Accuracy')\n",
        "  plt.xlabel('Epoch')\n",
        "  plt.legend(['Train', 'Test'], loc='upper left')\n",
        "  plt.show()\n",
        "\n",
        "  # Plot training & validation loss values\n",
        "  plt.plot(hist.history['loss'])\n",
        "  plt.plot(hist.history['val_loss'])\n",
        "  plt.title('Model loss')\n",
        "  plt.ylabel('Loss')\n",
        "  plt.xlabel('Epoch') \n",
        "  plt.legend(['Train', 'Test'], loc='upper left')\n",
        "  plt.show()"
      ],
      "execution_count": 0,
      "outputs": []
    },
    {
      "cell_type": "code",
      "metadata": {
        "id": "5tZN5CTVWT9g",
        "colab_type": "code",
        "colab": {}
      },
      "source": [
        "!nvidia-smi"
      ],
      "execution_count": 0,
      "outputs": []
    },
    {
      "cell_type": "code",
      "metadata": {
        "id": "wnxJnBAGWYnD",
        "colab_type": "code",
        "colab": {}
      },
      "source": [
        "(x_train, y_train), (x_test, y_test) = mnist.load_data()"
      ],
      "execution_count": 0,
      "outputs": []
    },
    {
      "cell_type": "code",
      "metadata": {
        "id": "cjIAwq3QWlK1",
        "colab_type": "code",
        "colab": {}
      },
      "source": [
        "y_train = to_categorical(y_train)\n",
        "y_test = to_categorical(y_test)"
      ],
      "execution_count": 0,
      "outputs": []
    },
    {
      "cell_type": "code",
      "metadata": {
        "id": "m79JvRCvlQSg",
        "colab_type": "code",
        "colab": {}
      },
      "source": [
        "x_train = x_train.reshape(-1, 28, 28, 1)\n",
        "x_test = x_test.reshape(-1, 28, 28, 1)"
      ],
      "execution_count": 0,
      "outputs": []
    },
    {
      "cell_type": "code",
      "metadata": {
        "id": "XnswYlPQWo0f",
        "colab_type": "code",
        "colab": {}
      },
      "source": [
        "x_train = (x_train - 127.5)/127.5\n",
        "x_test = (x_test - 127.5)/127.5"
      ],
      "execution_count": 0,
      "outputs": []
    },
    {
      "cell_type": "code",
      "metadata": {
        "id": "ugoTCrsHW8Ha",
        "colab_type": "code",
        "colab": {}
      },
      "source": [
        "mlp = Sequential()\n",
        "mlp.add(Flatten())\n",
        "mlp.add(Dense(units=64, activation='relu', input_shape=(784, )))\n",
        "mlp.add(Dense(units=32, activation='relu'))\n",
        "mlp.add(Dense(units=10, activation='softmax'))"
      ],
      "execution_count": 0,
      "outputs": []
    },
    {
      "cell_type": "code",
      "metadata": {
        "id": "yFVZrCAnW_qP",
        "colab_type": "code",
        "colab": {}
      },
      "source": [
        "mlp.compile(loss=\"categorical_crossentropy\", optimizer=\"SGD\", metrics=['accuracy'])"
      ],
      "execution_count": 0,
      "outputs": []
    },
    {
      "cell_type": "code",
      "metadata": {
        "id": "dJsU6XAEXHob",
        "colab_type": "code",
        "colab": {}
      },
      "source": [
        "hist = mlp.fit(x_train, y_train, validation_data=(x_test, y_test),epochs=5, batch_size=32)"
      ],
      "execution_count": 0,
      "outputs": []
    },
    {
      "cell_type": "code",
      "metadata": {
        "id": "2GkcECs5x_s0",
        "colab_type": "code",
        "colab": {}
      },
      "source": [
        "plot(hist)"
      ],
      "execution_count": 0,
      "outputs": []
    },
    {
      "cell_type": "code",
      "metadata": {
        "id": "8_acr9okXJxh",
        "colab_type": "code",
        "colab": {}
      },
      "source": [
        "from tensorflow.keras.layers import Dropout"
      ],
      "execution_count": 0,
      "outputs": []
    },
    {
      "cell_type": "code",
      "metadata": {
        "id": "19GKe-NAXmej",
        "colab_type": "code",
        "colab": {}
      },
      "source": [
        "mlp = Sequential()\n",
        "mlp.add(Flatten())\n",
        "mlp.add(Dense(units=1024, activation='relu', input_shape=(784, )))\n",
        "mlp.add(Dense(units=512, activation='relu'))\n",
        "mlp.add(Dense(units=256, activation='relu'))\n",
        "mlp.add(Dense(units=128, activation='relu'))\n",
        "mlp.add(Dense(units=10, activation='softmax'))"
      ],
      "execution_count": 0,
      "outputs": []
    },
    {
      "cell_type": "code",
      "metadata": {
        "id": "2-BH3PyJXyAy",
        "colab_type": "code",
        "colab": {}
      },
      "source": [
        "mlp.compile(loss=\"categorical_crossentropy\", optimizer=\"SGD\", metrics=['accuracy'])"
      ],
      "execution_count": 0,
      "outputs": []
    },
    {
      "cell_type": "code",
      "metadata": {
        "id": "O_VvbAmzX3rR",
        "colab_type": "code",
        "colab": {}
      },
      "source": [
        "hist = mlp.fit(x_train, y_train, validation_data=(x_test, y_test),epochs=120, batch_size=256)"
      ],
      "execution_count": 0,
      "outputs": []
    },
    {
      "cell_type": "code",
      "metadata": {
        "id": "_IlQnv30yXXt",
        "colab_type": "code",
        "colab": {}
      },
      "source": [
        "plot(hist)"
      ],
      "execution_count": 0,
      "outputs": []
    },
    {
      "cell_type": "code",
      "metadata": {
        "id": "ietQufHJzU_E",
        "colab_type": "code",
        "colab": {}
      },
      "source": [
        "mlp = Sequential()\n",
        "mlp.add(Flatten())\n",
        "mlp.add(Dense(units=1024, activation='relu', input_shape=(784, )))\n",
        "mlp.add(Dropout(0.2))\n",
        "mlp.add(Dense(units=512, activation='relu'))\n",
        "mlp.add(Dropout(0.3))\n",
        "mlp.add(Dense(units=256, activation='relu'))\n",
        "mlp.add(Dropout(0.4))\n",
        "mlp.add(Dense(units=128, activation='relu'))\n",
        "mlp.add(Dropout(0.5))\n",
        "mlp.add(Dense(units=10, activation='softmax'))"
      ],
      "execution_count": 0,
      "outputs": []
    },
    {
      "cell_type": "code",
      "metadata": {
        "id": "AXOGkWMkzazi",
        "colab_type": "code",
        "colab": {}
      },
      "source": [
        "mlp.compile(loss=\"categorical_crossentropy\", optimizer=\"SGD\", metrics=['accuracy'])"
      ],
      "execution_count": 0,
      "outputs": []
    },
    {
      "cell_type": "code",
      "metadata": {
        "id": "A4k8aFiRzdI-",
        "colab_type": "code",
        "colab": {}
      },
      "source": [
        "hist = mlp.fit(x_train, y_train, validation_data=(x_test, y_test),epochs=140, batch_size=256)"
      ],
      "execution_count": 0,
      "outputs": []
    },
    {
      "cell_type": "code",
      "metadata": {
        "id": "A9f8UVA80b85",
        "colab_type": "code",
        "colab": {}
      },
      "source": [
        "plot(hist)"
      ],
      "execution_count": 0,
      "outputs": []
    },
    {
      "cell_type": "code",
      "metadata": {
        "id": "6E6Phy9-kNil",
        "colab_type": "code",
        "colab": {}
      },
      "source": [
        "from tensorflow.keras.layers import Flatten, Conv2D, MaxPooling2D"
      ],
      "execution_count": 0,
      "outputs": []
    },
    {
      "cell_type": "code",
      "metadata": {
        "id": "BcGo9Sw0ktV8",
        "colab_type": "code",
        "colab": {}
      },
      "source": [
        "cnn = Sequential()\n",
        "cnn.add(Conv2D(32, kernel_size=3, strides=(1,1), padding='same', activation='relu', input_shape=(28, 28, 1)))\n",
        "cnn.add(MaxPooling2D(pool_size=(2, 2), strides=(2, 2)))\n",
        "cnn.add(Conv2D(64, kernel_size=3, strides=(1,1), padding='same', activation='relu'))\n",
        "cnn.add(MaxPooling2D(pool_size=(2, 2), strides=(2, 2)))\n",
        "cnn.add(Flatten())\n",
        "cnn.add(Dense(32, activation='relu'))\n",
        "cnn.add(Dense(10, activation='softmax', name=\"output\"))"
      ],
      "execution_count": 0,
      "outputs": []
    },
    {
      "cell_type": "code",
      "metadata": {
        "id": "GUgxPQNVkv1R",
        "colab_type": "code",
        "colab": {}
      },
      "source": [
        "cnn.compile(loss=\"categorical_crossentropy\", optimizer=\"SGD\", metrics=['accuracy'])"
      ],
      "execution_count": 0,
      "outputs": []
    },
    {
      "cell_type": "code",
      "metadata": {
        "id": "b3fHv1EFk4qj",
        "colab_type": "code",
        "colab": {}
      },
      "source": [
        "hist = cnn.fit(x_train, y_train, validation_data=(x_test, y_test),epochs=20, batch_size=256)"
      ],
      "execution_count": 0,
      "outputs": []
    },
    {
      "cell_type": "code",
      "metadata": {
        "id": "fg0zyLsr4dbT",
        "colab_type": "code",
        "colab": {}
      },
      "source": [
        "plot(hist)"
      ],
      "execution_count": 0,
      "outputs": []
    },
    {
      "cell_type": "code",
      "metadata": {
        "id": "IhFXTy5ek-r_",
        "colab_type": "code",
        "colab": {}
      },
      "source": [
        "from tensorflow.keras.layers import BatchNormalization, Activation\n",
        "from tensorflow.keras.optimizers import SGD"
      ],
      "execution_count": 0,
      "outputs": []
    },
    {
      "cell_type": "code",
      "metadata": {
        "id": "2mbaAGE9mVGB",
        "colab_type": "code",
        "colab": {}
      },
      "source": [
        "cnn = Sequential()\n",
        "cnn.add(Conv2D(32, kernel_size=3, strides=(1,1), padding='same', input_shape=(28, 28, 1)))\n",
        "cnn.add(MaxPooling2D(pool_size=(2, 2), strides=(2, 2)))\n",
        "cnn.add(Activation('relu'))\n",
        "cnn.add(BatchNormalization())\n",
        "cnn.add(Conv2D(64, kernel_size=3, strides=(1,1), padding='same'))\n",
        "cnn.add(MaxPooling2D(pool_size=(2, 2), strides=(2, 2)))\n",
        "cnn.add(Activation('relu'))\n",
        "cnn.add(BatchNormalization())\n",
        "cnn.add(Flatten())\n",
        "cnn.add(Dense(32, activation='relu'))\n",
        "cnn.add(Dense(10, activation='softmax'))"
      ],
      "execution_count": 0,
      "outputs": []
    },
    {
      "cell_type": "code",
      "metadata": {
        "id": "-NR2F2VAmXhE",
        "colab_type": "code",
        "colab": {}
      },
      "source": [
        "cnn.compile(loss=\"categorical_crossentropy\", optimizer=SGD(0.1), metrics=['accuracy'])"
      ],
      "execution_count": 0,
      "outputs": []
    },
    {
      "cell_type": "code",
      "metadata": {
        "id": "NztMGt4vma9j",
        "colab_type": "code",
        "colab": {}
      },
      "source": [
        "hist = cnn.fit(x_train, y_train, validation_data=(x_test, y_test),epochs=5, batch_size=256)"
      ],
      "execution_count": 0,
      "outputs": []
    },
    {
      "cell_type": "code",
      "metadata": {
        "id": "VjOpUyOjmdOi",
        "colab_type": "code",
        "colab": {}
      },
      "source": [
        "plot(hist)"
      ],
      "execution_count": 0,
      "outputs": []
    },
    {
      "cell_type": "code",
      "metadata": {
        "id": "EBNd8Um66nR-",
        "colab_type": "code",
        "colab": {}
      },
      "source": [
        "from tensorflow.keras.callbacks import EarlyStopping, TensorBoard\n",
        "%load_ext tensorboard"
      ],
      "execution_count": 0,
      "outputs": []
    },
    {
      "cell_type": "code",
      "metadata": {
        "id": "4opbKIF_6_V0",
        "colab_type": "code",
        "colab": {}
      },
      "source": [
        "es = EarlyStopping(min_delta=0.01, patience=7, restore_best_weights=True)\n",
        "logdir = os.path.join(\"logs\")\n",
        "tb = TensorBoard(logdir, histogram_freq=1)"
      ],
      "execution_count": 0,
      "outputs": []
    },
    {
      "cell_type": "code",
      "metadata": {
        "id": "Llk0Pjq27fI8",
        "colab_type": "code",
        "colab": {}
      },
      "source": [
        "cnn.compile(loss=\"categorical_crossentropy\", optimizer=SGD(0.1), metrics=['accuracy'])"
      ],
      "execution_count": 0,
      "outputs": []
    },
    {
      "cell_type": "code",
      "metadata": {
        "id": "u5BdILoH79o_",
        "colab_type": "code",
        "colab": {}
      },
      "source": [
        "cnn.fit(x_train, y_train, validation_data=(x_test, y_test),epochs=50, batch_size=256, callbacks=[es, tb])"
      ],
      "execution_count": 0,
      "outputs": []
    },
    {
      "cell_type": "code",
      "metadata": {
        "id": "4fzzDWdO8FvD",
        "colab_type": "code",
        "colab": {}
      },
      "source": [
        "%tensorboard --logdir logs"
      ],
      "execution_count": 0,
      "outputs": []
    }
  ]
}